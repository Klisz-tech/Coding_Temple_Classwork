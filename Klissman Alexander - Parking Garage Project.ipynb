{
 "cells": [
  {
   "attachments": {},
   "cell_type": "markdown",
   "metadata": {},
   "source": [
    "# Parking Garage Project\n",
    "\n",
    "Your assignment for today is to create a parking garage class to get more familiar with Object Oriented Programming(OOP). \n",
    "\n",
    "Your parking gargage class should have the following methods:\n",
    "- take_ticket\n",
    "   - This should decrease the amount of tickets available by 1\n",
    "   - This should decrease the amount of parking_spaces available by 1\n",
    "- pay_for_parking\n",
    "   - Display an input that waits for an amount from the user and store it in a variable\n",
    "   - If the payment variable is not empty then ->  display a message to the user that their ticket has been paid and they have 15mins to leave\n",
    "   - This should update the \"current_ticket\" dictionary key \"paid\" to True\n",
    "-leave_garage\n",
    "   - If the ticket has been paid, display a message of \"Thank You, have a nice day\"\n",
    "   - If the ticket has not been paid, display an input prompt for payment\n",
    "      - Once paid, display message \"Thank you, have a nice day!\"\n",
    "   - Update parking_spaces list to increase by 1\n",
    "   - Update tickets list to increase by 1\n",
    "\n",
    "You will need a few attributes as well:\n",
    "- tickets -> list\n",
    "- parking_spaces -> list\n",
    "- current_ticket -> dictionary"
   ]
  },
  {
   "cell_type": "code",
   "execution_count": 5,
   "metadata": {},
   "outputs": [
    {
     "name": "stdout",
     "output_type": "stream",
     "text": [
      "Thank you for using our parking.You have 15 minutes to leave.\n"
     ]
    }
   ],
   "source": [
    "# YOUR CODE HERE\n",
    "class ParkingGarage:\n",
    "    def __init__(self, tickets= [], parking_spaces= []):\n",
    "        \n",
    "        self.tickets = tickets\n",
    "        self.parking_spaces = parking_spaces\n",
    "        self.current_ticket = {}\n",
    "\n",
    "    def ticket_machine(self):\n",
    "        self.tickets -= 1\n",
    "        self.parking_spaces -= 1\n",
    "    \n",
    "    def pay_for_parking(self):\n",
    "        ticket_payment = input(\"Please enter the money amount: \")\n",
    "        if ticket_payment:\n",
    "            self.current_ticket[\"paid\"] = True\n",
    "            print(\"Thank you for using our parking.You have 15 minutes to leave.\")\n",
    "            self.parking_spaces += 1\n",
    "            self.tickets +=1\n",
    "            if ticket_payment != ticket_payment:\n",
    "                print(\"Please re-enter payment\")\n",
    "        else:\n",
    "            (\"We've called security\")\n",
    "\n",
    "my_garage= ParkingGarage(45,45)\n",
    "my_garage.ticket_machine()\n",
    "my_garage.pay_for_parking()"
   ]
  }
 ],
 "metadata": {
  "kernelspec": {
   "display_name": "Python 3",
   "language": "python",
   "name": "python3"
  },
  "language_info": {
   "codemirror_mode": {
    "name": "ipython",
    "version": 3
   },
   "file_extension": ".py",
   "mimetype": "text/x-python",
   "name": "python",
   "nbconvert_exporter": "python",
   "pygments_lexer": "ipython3",
   "version": "3.10.10"
  }
 },
 "nbformat": 4,
 "nbformat_minor": 2
}
