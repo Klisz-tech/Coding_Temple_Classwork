{
 "cells": [
  {
   "attachments": {},
   "cell_type": "markdown",
   "metadata": {},
   "source": [
    "### **Task 1: Build a Shopping Cart**\n",
    "**You can use either lists or dictionaries. The program should have the following capabilites:**\n",
    "* Takes a string as an input\n",
    "* Stores user input in a dictionary or list\n",
    "* Users should be able to:\n",
    "    * Add Items\n",
    "    * Delete Items\n",
    "    * See current shopping cart\n",
    "* The program should loop until user 'quits'\n",
    "* Upon quitting the program, print out all items in the user's list"
   ]
  },
  {
   "cell_type": "code",
   "execution_count": null,
   "metadata": {},
   "outputs": [],
   "source": [
    "from IPython.display import clear_output\n",
    "\n",
    "# Ask the user 5 bits of input: Do you want to : Show/Add/Delete/clear or Quit?\n",
    "# YOUR CODE HERE\n",
    "def cart_info():\n",
    "    # Step 2\n",
    "    shopping_lst = []\n",
    "\n",
    "    # Step 3\n",
    "    while True:\n",
    "        # Step 4\n",
    "        user_choice = input(\"What would you like to do? \")\n",
    "        if user_choice.lower() == \"add\":\n",
    "            name_item = input(\"What item would you like to add? \")\n",
    "            shopping_lst.append(name_item)\n",
    "        elif user_choice.lower() == \"delete\":\n",
    "            item_deleted = input(\"Which item would you like to delete? \")\n",
    "            shopping_lst.remove(item_deleted)\n",
    "        elif user_choice.lower() == 'clear':\n",
    "            clear_lst = input(\"Alright, are you sure you'd like to clear the list? Type 'erase'\")\n",
    "            if clear_lst.lower() == 'erase':\n",
    "                shopping_lst.clear()\n",
    "        elif user_choice.lower() == \"see list\":\n",
    "            print(shopping_lst)\n",
    "        elif user_choice.lower() == 'quit':\n",
    "            break\n",
    "\n",
    "        clear_output()\n",
    "\n",
    "print(cart_info())"
   ]
  },
  {
   "attachments": {},
   "cell_type": "markdown",
   "metadata": {},
   "source": [
    "### **Task 2: Create a Module and Import it**\n",
    "Create a Module in VS Code and import it into a Jupyter Notebook. \n",
    "\n",
    "**Your module should have the following capabilities:**\n",
    "* Has a function to calculate the square footage of a house\n",
    "* Has a function to calculate the circumference of a circle\n",
    "* Has a function to change feet to inches\n",
    "\n",
    "The program in Jupyter Notebook should take in user input and use the imported functions for their calculations!"
   ]
  },
  {
   "cell_type": "code",
   "execution_count": null,
   "metadata": {},
   "outputs": [],
   "source": [
    "import module\n",
    " \n",
    "print(module.sqr_footage_house(20,10))\n",
    "print(module.ft_to_inches(5))\n",
    "print(module.Circumference(25))"
   ]
  },
  {
   "attachments": {},
   "cell_type": "markdown",
   "metadata": {},
   "source": [
    "### **Task 3.1: Lists**\n",
    "Create 4 lists. Two of these lists should be keys, two of these lists should be values"
   ]
  },
  {
   "cell_type": "code",
   "execution_count": null,
   "metadata": {},
   "outputs": [],
   "source": [
    "lst1 = [\"Frodo\", \"Bilbo\", \"Gandalf\", \"Oakenshield\", \"Legolas\"]\n",
    "lst2 = [\"Hobbit\",\"Hobbit\",\"Wizard\",\"Dwarf\",\"Elf\"]\n",
    "lst3 = [\"Toyota\", \"Honda\", \"Lexus\",\"Acura\", \"Chevy\"]\n",
    "lst4 = [\"4runner\",\"Civic\", \"LS300\", \"NSX\" ,\"1970 SS Chevelle hardtop\" ]"
   ]
  },
  {
   "attachments": {},
   "cell_type": "markdown",
   "metadata": {},
   "source": [
    "### **Task 3.2: Create a function that converts two lists into a dictionary, then merges two dictionaries into one.**\n",
    "\n",
    "Using your 4 lists, create a function which combines the keys lists with the values lists into a dictionary, then merges and returns the two dictionaries together."
   ]
  },
  {
   "cell_type": "code",
   "execution_count": null,
   "metadata": {},
   "outputs": [],
   "source": [
    "def lst_combo():\n",
    "    lst1 = [\"Frodo\", \"Bilbo\", \"Gandalf\", \"Oakenshield\", \"Legolas\"]\n",
    "    lst2 = [\"Hobbit\",\"Hobbit\",\"Wizard\",\"Dwarf\",\"Elf\"]\n",
    "    lst3 = [\"Toyota\", \"Honda\", \"Lexus\",\"Acura\", \"Chevy\"]\n",
    "    lst4 = [\"4runner\",\"Civic\", \"LS300\", \"NSX\" ,\"1970 SS Chevelle hardtop\" ]\n",
    "\n",
    "    first_dict = dict(zip(lst1,lst2))\n",
    "    second_dict = dict(zip(lst3,lst4))\n",
    "    return first_dict, second_dict\n",
    "print(lst_combo())"
   ]
  }
 ],
 "metadata": {
  "kernelspec": {
   "display_name": "Python 3",
   "language": "python",
   "name": "python3"
  },
  "language_info": {
   "codemirror_mode": {
    "name": "ipython",
    "version": 3
   },
   "file_extension": ".py",
   "mimetype": "text/x-python",
   "name": "python",
   "nbconvert_exporter": "python",
   "pygments_lexer": "ipython3",
   "version": "3.10.10"
  },
  "orig_nbformat": 4
 },
 "nbformat": 4,
 "nbformat_minor": 2
}
